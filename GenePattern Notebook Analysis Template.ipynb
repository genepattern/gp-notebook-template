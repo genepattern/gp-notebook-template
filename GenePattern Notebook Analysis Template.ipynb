{
 "cells": [
  {
   "cell_type": "markdown",
   "metadata": {},
   "source": [
    "# GenePattern Notebook Analysis \n",
    "\n",
    "**Author** - Clarence Mah\n",
    "<br>\n",
    "**Email** - ckmah@ucsd.edu\n",
    "\n",
    "This notebook performs ____ analysis. Provide an appropriate reference as appropriate [(Capper et al. 2018)](https://www.nature.com/articles/nature26000).\n",
    "\n",
    "### Objective\n",
    "The goal of this notebook is ... Analyses performed in this workflow use the [minfi](http://bioconductor.org/packages/release/bioc/html/minfi.html) and [conumee](http://bioconductor.org/packages/release/bioc/html/conumee.html) packages.\n",
    "\n",
    "### Dataset\n",
    "Describe the dataset used in the analysis along with links to where to find the original data if possible (e.g. GEO, TCGA, etc.)\n",
    "\n",
    "### Analysis Overview\n",
    "1. **[Preprocess Data](#Step-1:-Preprocess-Data)**\n",
    "    1. Load the dataset and perform preprocessing.\n",
    "    2. ...\n",
    "2. **[...](#Step-2:-...)**\n",
    "\n",
    "# Workflow Diagram\n",
    "Make a copy of this [template](https://docs.google.com/presentation/d/1atuIavj7fzdLeqJs36fOXvi9pPT7KMOZpib24m0J06g/edit#slide=id.g3973a57c63_0_68) to create a workflow diagram. Export the diagram as an `svg` file and upload it to as part of the notebook Github repository. Add `?sanitize=True` to the end of the image raw Github URL.\n",
    "![Workflow Diagram](https://github.com/genepattern/gp-notebook-template/raw/master/gp_notebook_workflow_template.svg?sanitize=true)"
   ]
  },
  {
   "cell_type": "markdown",
   "metadata": {},
   "source": [
    "# Login to GenePattern\n",
    "Login to a GenePattern server to perform the following analyses.\n",
    "\n",
    "**NOTE:** This can be removed if the notebook only uses UI Builder cells."
   ]
  },
  {
   "cell_type": "code",
   "execution_count": 1,
   "metadata": {
    "ExecuteTime": {
     "end_time": "2018-05-14T19:33:24.200864Z",
     "start_time": "2018-05-14T19:33:24.184327Z"
    },
    "genepattern": {
     "server": "https://gp-beta-ami.genepattern.org/gp",
     "type": "auth"
    }
   },
   "outputs": [
    {
     "data": {
      "application/vnd.jupyter.widget-view+json": {
       "model_id": "21455beaf08d441a8039ad3c5790e65d",
       "version_major": 2,
       "version_minor": 0
      },
      "text/html": [
       "<p>Failed to display Jupyter Widget of type <code>GPAuthWidget</code>.</p>\n",
       "<p>\n",
       "  If you're reading this message in the Jupyter Notebook or JupyterLab Notebook, it may mean\n",
       "  that the widgets JavaScript is still loading. If this message persists, it\n",
       "  likely means that the widgets JavaScript library is either not installed or\n",
       "  not enabled. See the <a href=\"https://ipywidgets.readthedocs.io/en/stable/user_install.html\">Jupyter\n",
       "  Widgets Documentation</a> for setup instructions.\n",
       "</p>\n",
       "<p>\n",
       "  If you're reading this message in another frontend (for example, a static\n",
       "  rendering on GitHub or <a href=\"https://nbviewer.jupyter.org/\">NBViewer</a>),\n",
       "  it may mean that your frontend doesn't currently support widgets.\n",
       "</p>\n"
      ],
      "text/plain": [
       "GPAuthWidget()"
      ]
     },
     "metadata": {},
     "output_type": "display_data"
    }
   ],
   "source": [
    "# Requires GenePattern Notebook: pip install genepattern-notebook\n",
    "import gp\n",
    "import genepattern\n",
    "\n",
    "# Username and password removed for security reasons.\n",
    "genepattern.GPAuthWidget(genepattern.register_session(\"https://gp-beta-ami.genepattern.org/gp\", \"\", \"\"))"
   ]
  },
  {
   "cell_type": "markdown",
   "metadata": {},
   "source": [
    "# Step 1: Preprocess Data\n",
    "\n",
    "This step performs.... (1-2 sentences). Reference the GenePattern module as well as the python/R package it is based on.\n",
    "\n",
    "<div class=\"alert alert-info\">\n",
    "<h3 style=\"margin-top: 0;\"> Instructions <i class=\"fa fa-info-circle\"></i></h3>\n",
    "<p>**Supported file formats**: `txt`, and `gct`.</p>\n",
    "\n",
    "<ol>\n",
    "    <li>Load data in **dataset** parameter.</li>\n",
    "    <li>Set parameter **xxx** to `value`.</li>\n",
    "</ol>\n",
    "\n",
    "</div>\n",
    "\n",
    "**Output files**\n",
    "- `output1.txt` - describe contents of first output file\n",
    "- `output2.txt` - describe contents of second output file"
   ]
  },
  {
   "cell_type": "code",
   "execution_count": null,
   "metadata": {},
   "outputs": [],
   "source": [
    "# GenePattern Analysis Cell"
   ]
  },
  {
   "cell_type": "markdown",
   "metadata": {},
   "source": [
    "# Step 2: ...\n",
    "\n",
    "This step performs.... (1-2 sentences)\n",
    "\n",
    "<div class=\"alert alert-info\">\n",
    "<h3 style=\"margin-top: 0;\"> Instructions <i class=\"fa fa-info-circle\"></i></h3>\n",
    "<p>**Supported file formats**: `txt`, and `gct`.\n",
    "<ol>\n",
    "    <li>Load data in **dataset** parameter.</li>\n",
    "    <li>Set parameter **xxx** to `value`.</li>\n",
    "</ol>\n",
    "</div>\n",
    "\n",
    "**Output files**\n",
    "- `output1.txt` - describe contents of first output file\n",
    "- `output2.txt` - describe contents of second output file"
   ]
  },
  {
   "cell_type": "code",
   "execution_count": null,
   "metadata": {},
   "outputs": [],
   "source": [
    "# GenePattern Analysis Cell"
   ]
  }
 ],
 "metadata": {
  "kernelspec": {
   "display_name": "Python 3",
   "language": "python",
   "name": "python3"
  },
  "language_info": {
   "codemirror_mode": {
    "name": "ipython",
    "version": 3
   },
   "file_extension": ".py",
   "mimetype": "text/x-python",
   "name": "python",
   "nbconvert_exporter": "python",
   "pygments_lexer": "ipython3",
   "version": "3.6.1"
  }
 },
 "nbformat": 4,
 "nbformat_minor": 2
}
